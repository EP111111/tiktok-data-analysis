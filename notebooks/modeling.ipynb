{
 "cells": [
  {
   "cell_type": "code",
   "execution_count": 1,
   "id": "1dd1bcf7-d615-4398-98bb-9f6edff7c47a",
   "metadata": {},
   "outputs": [],
   "source": [
    "import pandas as pd\n",
    "from sklearn.model_selection import train_test_split\n",
    "from sklearn.linear_model import LogisticRegression\n",
    "from sklearn.metrics import accuracy_score"
   ]
  },
  {
   "cell_type": "code",
   "execution_count": 2,
   "id": "4d2bc5a9-467e-4948-ab1c-c3b07284f786",
   "metadata": {},
   "outputs": [],
   "source": [
    "df = pd.read_csv(\"dataset/tiktok_dataset.csv\")\n",
    "del df['Unnamed: 0'], df['H'], df['date'], df['finish'], df['channel']"
   ]
  },
  {
   "cell_type": "code",
   "execution_count": 3,
   "id": "5ede7614-6bf1-4946-a963-9ab71e67bb6a",
   "metadata": {},
   "outputs": [
    {
     "data": {
      "text/html": [
       "<div>\n",
       "<style scoped>\n",
       "    .dataframe tbody tr th:only-of-type {\n",
       "        vertical-align: middle;\n",
       "    }\n",
       "\n",
       "    .dataframe tbody tr th {\n",
       "        vertical-align: top;\n",
       "    }\n",
       "\n",
       "    .dataframe thead th {\n",
       "        text-align: right;\n",
       "    }\n",
       "</style>\n",
       "<table border=\"1\" class=\"dataframe\">\n",
       "  <thead>\n",
       "    <tr style=\"text-align: right;\">\n",
       "      <th></th>\n",
       "      <th>uid</th>\n",
       "      <th>user_city</th>\n",
       "      <th>item_id</th>\n",
       "      <th>author_id</th>\n",
       "      <th>item_city</th>\n",
       "      <th>like</th>\n",
       "      <th>music_id</th>\n",
       "      <th>duration_time</th>\n",
       "      <th>real_time</th>\n",
       "    </tr>\n",
       "  </thead>\n",
       "  <tbody>\n",
       "    <tr>\n",
       "      <th>0</th>\n",
       "      <td>15692</td>\n",
       "      <td>109.0</td>\n",
       "      <td>691661</td>\n",
       "      <td>18212</td>\n",
       "      <td>213.0</td>\n",
       "      <td>0</td>\n",
       "      <td>11513.0</td>\n",
       "      <td>10</td>\n",
       "      <td>2019-10-28 21:55:10</td>\n",
       "    </tr>\n",
       "    <tr>\n",
       "      <th>1</th>\n",
       "      <td>44071</td>\n",
       "      <td>80.0</td>\n",
       "      <td>1243212</td>\n",
       "      <td>34500</td>\n",
       "      <td>68.0</td>\n",
       "      <td>0</td>\n",
       "      <td>1274.0</td>\n",
       "      <td>9</td>\n",
       "      <td>2019-10-21 22:27:03</td>\n",
       "    </tr>\n",
       "    <tr>\n",
       "      <th>2</th>\n",
       "      <td>10902</td>\n",
       "      <td>202.0</td>\n",
       "      <td>3845855</td>\n",
       "      <td>634066</td>\n",
       "      <td>113.0</td>\n",
       "      <td>0</td>\n",
       "      <td>762.0</td>\n",
       "      <td>10</td>\n",
       "      <td>2019-10-26 00:38:51</td>\n",
       "    </tr>\n",
       "    <tr>\n",
       "      <th>3</th>\n",
       "      <td>25300</td>\n",
       "      <td>21.0</td>\n",
       "      <td>3929579</td>\n",
       "      <td>214923</td>\n",
       "      <td>330.0</td>\n",
       "      <td>0</td>\n",
       "      <td>2332.0</td>\n",
       "      <td>15</td>\n",
       "      <td>2019-10-25 20:36:25</td>\n",
       "    </tr>\n",
       "    <tr>\n",
       "      <th>4</th>\n",
       "      <td>3656</td>\n",
       "      <td>138.0</td>\n",
       "      <td>2572269</td>\n",
       "      <td>182680</td>\n",
       "      <td>80.0</td>\n",
       "      <td>0</td>\n",
       "      <td>238.0</td>\n",
       "      <td>9</td>\n",
       "      <td>2019-10-21 20:46:29</td>\n",
       "    </tr>\n",
       "  </tbody>\n",
       "</table>\n",
       "</div>"
      ],
      "text/plain": [
       "     uid  user_city  item_id  author_id  item_city  like  music_id  \\\n",
       "0  15692      109.0   691661      18212      213.0     0   11513.0   \n",
       "1  44071       80.0  1243212      34500       68.0     0    1274.0   \n",
       "2  10902      202.0  3845855     634066      113.0     0     762.0   \n",
       "3  25300       21.0  3929579     214923      330.0     0    2332.0   \n",
       "4   3656      138.0  2572269     182680       80.0     0     238.0   \n",
       "\n",
       "   duration_time            real_time  \n",
       "0             10  2019-10-28 21:55:10  \n",
       "1              9  2019-10-21 22:27:03  \n",
       "2             10  2019-10-26 00:38:51  \n",
       "3             15  2019-10-25 20:36:25  \n",
       "4              9  2019-10-21 20:46:29  "
      ]
     },
     "execution_count": 3,
     "metadata": {},
     "output_type": "execute_result"
    }
   ],
   "source": [
    "df.head()"
   ]
  },
  {
   "cell_type": "code",
   "execution_count": 4,
   "id": "a93ad56d-30ff-4ea4-9a7c-2622807597ae",
   "metadata": {},
   "outputs": [
    {
     "name": "stderr",
     "output_type": "stream",
     "text": [
      "C:\\Users\\enzep\\AppData\\Roaming\\Python\\Python312\\site-packages\\sklearn\\linear_model\\_logistic.py:469: ConvergenceWarning: lbfgs failed to converge (status=1):\n",
      "STOP: TOTAL NO. of ITERATIONS REACHED LIMIT.\n",
      "\n",
      "Increase the number of iterations (max_iter) or scale the data as shown in:\n",
      "    https://scikit-learn.org/stable/modules/preprocessing.html\n",
      "Please also refer to the documentation for alternative solver options:\n",
      "    https://scikit-learn.org/stable/modules/linear_model.html#logistic-regression\n",
      "  n_iter_i = _check_optimize_result(\n"
     ]
    }
   ],
   "source": [
    "\n",
    "features = df[[\"user_city\", \"item_id\", \"author_id\", \"duration_time\", \"item_city\"]]\n",
    "\n",
    "target = df[\"like\"]\n",
    "\n",
    "features = features.fillna(0)  \n",
    "features = pd.get_dummies(features)  \n",
    "X_train, X_test, y_train, y_test = train_test_split(features, target, test_size=0.2)\n",
    "model = LogisticRegression()\n",
    "model.fit(X_train, y_train)\n",
    "\n",
    "predictions = model.predict(X_test)"
   ]
  },
  {
   "cell_type": "code",
   "execution_count": 6,
   "id": "9a3f943e-c703-48a7-a10a-be6b1b5ad81f",
   "metadata": {},
   "outputs": [
    {
     "name": "stdout",
     "output_type": "stream",
     "text": [
      "0.9902665895361521\n"
     ]
    }
   ],
   "source": [
    "accuracy = accuracy_score(y_test,predictions)\n",
    "print(accuracy)"
   ]
  },
  {
   "cell_type": "code",
   "execution_count": null,
   "id": "ef00f8ca-e272-42a2-b54d-ee457e4854da",
   "metadata": {},
   "outputs": [],
   "source": []
  }
 ],
 "metadata": {
  "kernelspec": {
   "display_name": "Python 3 (ipykernel)",
   "language": "python",
   "name": "python3"
  },
  "language_info": {
   "codemirror_mode": {
    "name": "ipython",
    "version": 3
   },
   "file_extension": ".py",
   "mimetype": "text/x-python",
   "name": "python",
   "nbconvert_exporter": "python",
   "pygments_lexer": "ipython3",
   "version": "3.12.2"
  }
 },
 "nbformat": 4,
 "nbformat_minor": 5
}
